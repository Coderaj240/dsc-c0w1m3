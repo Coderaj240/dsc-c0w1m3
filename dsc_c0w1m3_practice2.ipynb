{
 "cells": [
  {
   "cell_type": "markdown",
   "metadata": {
    "id": "DseJ85l7AVtS"
   },
   "source": [
    "# Practice for Measure of Dispersion"
   ]
  },
  {
   "cell_type": "markdown",
   "metadata": {
    "id": "qFwZC1buBHei"
   },
   "source": [
    "1. Load in the relevant dataset using csv DictReader. The path has been provided."
   ]
  },
  {
   "cell_type": "code",
   "execution_count": 5,
   "metadata": {
    "id": "MnxIV17qAVtT"
   },
   "outputs": [
    {
     "data": {
      "text/plain": [
       "{'HHX': '16',\n",
       " 'FMX': '1',\n",
       " 'FPX': '2',\n",
       " 'SEX': '1',\n",
       " 'BMI': '33.36',\n",
       " 'SLEEP': '8',\n",
       " 'educ': '16',\n",
       " 'height': '74',\n",
       " 'weight': '260'}"
      ]
     },
     "execution_count": 5,
     "metadata": {},
     "output_type": "execute_result"
    }
   ],
   "source": [
    "import csv\n",
    "path = 'C:/Users/sushm/OneDrive/Desktop/Data_Flatiron/chapter3-central tendency n dispersion/dsc-c0w1m3/nhis.csv'\n",
    "# Or bring in the data file locally\n",
    " \n",
    "\n",
    "# Your code here\n",
    "with open(path, 'r') as f:\n",
    "    data = list(csv.DictReader(f))\n",
    "data[0] "
   ]
  },
  {
   "cell_type": "markdown",
   "metadata": {
    "id": "9BvZJwC-BWOW"
   },
   "source": [
    "2. Extract values for the the variable height and save to a Python list called `height_list`:"
   ]
  },
  {
   "cell_type": "code",
   "execution_count": 8,
   "metadata": {
    "id": "r_XVJY0TBYxS"
   },
   "outputs": [],
   "source": [
    "height_list = [int(row['height']) for row in data]"
   ]
  },
  {
   "cell_type": "markdown",
   "metadata": {
    "id": "UMS3oS-RGNsF"
   },
   "source": [
    "We have plotted a histogram of the data. There are clearly outliers in the data."
   ]
  },
  {
   "cell_type": "code",
   "execution_count": null,
   "metadata": {
    "id": "ozCa-cg0GQPf"
   },
   "outputs": [],
   "source": [
    "# Run this cell without changes\n",
    "#import matplotlib.pyplot as plt\n",
    "#%matplotlib inline\n",
    "# ^^This is a 'magic command' built into jupyter notebooks. We use it so that the visualization displays\n",
    "# in the notebook directly, instead of in a separate window."
   ]
  },
  {
   "cell_type": "code",
   "execution_count": null,
   "metadata": {
    "id": "0V-QyJyLGUix"
   },
   "outputs": [],
   "source": [
    "# Run this cell without changes\n",
    "# A histogram should display below\n",
    "#plt.hist(height, bins=8);"
   ]
  },
  {
   "cell_type": "markdown",
   "metadata": {
    "id": "PcQ_BKoeDSYc"
   },
   "source": [
    "3.  Calculate the sample mean of the heights."
   ]
  },
  {
   "cell_type": "code",
   "execution_count": 9,
   "metadata": {
    "id": "MH8SLkfMJMHF"
   },
   "outputs": [
    {
     "data": {
      "text/plain": [
       "69.57826541274817"
      ]
     },
     "execution_count": 9,
     "metadata": {},
     "output_type": "execute_result"
    }
   ],
   "source": [
    "import numpy as np # import numpy\n",
    "\n",
    "height_array = np.array(height_list)\n",
    "height_mean = height_array.mean()\n",
    "height_mean"
   ]
  },
  {
   "cell_type": "markdown",
   "metadata": {
    "id": "21t8rXLzJMzM"
   },
   "source": [
    "4. Calculate the sample variance of the heights. Make sure that you are using the corrected variance."
   ]
  },
  {
   "cell_type": "code",
   "execution_count": 10,
   "metadata": {
    "id": "lB8xbHuyJRHk"
   },
   "outputs": [
    {
     "data": {
      "text/plain": [
       "87.74476162268516"
      ]
     },
     "execution_count": 10,
     "metadata": {},
     "output_type": "execute_result"
    }
   ],
   "source": [
    "height_variance = height_array.var(ddof=1)\n",
    "height_variance"
   ]
  },
  {
   "cell_type": "markdown",
   "metadata": {
    "id": "Mc3fj3IHJYtz"
   },
   "source": [
    "5. Calculate the sample standard deviation of heights. Make sure that you are using the corrected standard deviation."
   ]
  },
  {
   "cell_type": "code",
   "execution_count": 11,
   "metadata": {
    "id": "35gVzsB6Ja1u"
   },
   "outputs": [
    {
     "data": {
      "text/plain": [
       "9.367217389528502"
      ]
     },
     "execution_count": 11,
     "metadata": {},
     "output_type": "execute_result"
    }
   ],
   "source": [
    "height_std = height_array.std(ddof=1)\n",
    "height_std"
   ]
  },
  {
   "cell_type": "markdown",
   "metadata": {
    "id": "HH3Pr2skJcDf"
   },
   "source": [
    "6. Calculate the IQR by calculating and subtracting relevant percentiles."
   ]
  },
  {
   "cell_type": "code",
   "execution_count": 12,
   "metadata": {
    "id": "4daj6fRiJfAo"
   },
   "outputs": [
    {
     "name": "stdout",
     "output_type": "stream",
     "text": [
      "64.0 71.0\n",
      "7.0\n"
     ]
    }
   ],
   "source": [
    "Q1 = np.percentile(height_array, 25)\n",
    "Q3 = np.percentile(height_array, 75)\n",
    "print(Q1, Q3)\n",
    "IQR_orig = Q3 - Q1\n",
    "print(IQR_orig)"
   ]
  },
  {
   "cell_type": "markdown",
   "metadata": {
    "id": "NKrZTLBfJgsj"
   },
   "source": [
    "7. Calculate the IQR using scipy."
   ]
  },
  {
   "cell_type": "code",
   "execution_count": 13,
   "metadata": {
    "id": "z7Zb1d8wJjSG"
   },
   "outputs": [
    {
     "data": {
      "text/plain": [
       "7.0"
      ]
     },
     "execution_count": 13,
     "metadata": {},
     "output_type": "execute_result"
    }
   ],
   "source": [
    "from scipy.stats import iqr\n",
    "\n",
    "iqr(height_array)"
   ]
  },
  {
   "cell_type": "markdown",
   "metadata": {
    "id": "oiIg2jptJmvV"
   },
   "source": [
    "8. Clean all outliers from the height data. You can use the histogram of heights to help guide in your data filtering."
   ]
  },
  {
   "cell_type": "code",
   "execution_count": 15,
   "metadata": {
    "id": "dNT_7S0HJqXG"
   },
   "outputs": [],
   "source": [
    "#filtering heights above 80 out of the dataset should do the trick.\n",
    "# we convert to numpy array for convenience\n",
    "heights_cleaned = np.array([height for height in height_list if height < 80 ])"
   ]
  },
  {
   "cell_type": "markdown",
   "metadata": {
    "id": "yPICwQKWJpar"
   },
   "source": [
    "9. Compute the sample standard deviation on the cleaned data:"
   ]
  },
  {
   "cell_type": "code",
   "execution_count": 16,
   "metadata": {
    "id": "ebXPNKJqJwKu"
   },
   "outputs": [
    {
     "data": {
      "text/plain": [
       "3.910385485998152"
      ]
     },
     "execution_count": 16,
     "metadata": {},
     "output_type": "execute_result"
    }
   ],
   "source": [
    "cleaned_std = heights_cleaned.std(ddof=1)\n",
    "cleaned_std"
   ]
  },
  {
   "cell_type": "markdown",
   "metadata": {
    "id": "aNUhEqwhJxSy"
   },
   "source": [
    "10.  Compute the new IQR on the cleaned data:"
   ]
  },
  {
   "cell_type": "code",
   "execution_count": 17,
   "metadata": {
    "id": "AfyW3uSlJz0h"
   },
   "outputs": [
    {
     "name": "stdout",
     "output_type": "stream",
     "text": [
      "64.0 70.0\n"
     ]
    },
    {
     "data": {
      "text/plain": [
       "6.0"
      ]
     },
     "execution_count": 17,
     "metadata": {},
     "output_type": "execute_result"
    }
   ],
   "source": [
    "Q1_cleaned = np.percentile(heights_cleaned, 25)\n",
    "Q3_cleaned = np.percentile(heights_cleaned, 75)\n",
    "\n",
    "print(Q1_cleaned, Q3_cleaned)\n",
    "iqr_cleaned = iqr(heights_cleaned)\n",
    "iqr_cleaned"
   ]
  },
  {
   "cell_type": "markdown",
   "metadata": {
    "id": "4-CEN3waJ1IB"
   },
   "source": [
    "11.  Comment on how the standard deviation and IQR has changed between  the original and cleaned heights."
   ]
  },
  {
   "cell_type": "markdown",
   "metadata": {
    "id": "U9Pd40aXJ4Xr"
   },
   "source": [
    "The standard deviation has reduced substantially—to a value that now reflects a deviation from the mean about which the bulk of the main height distribution lies. The IQR has reduced somewhat but is basically stable. The IQR now is commensurate with the characteristic range $ [ \\bar{x} - s, \\bar{x} + s]$ given by the sample standard deviation and mean."
   ]
  }
 ],
 "metadata": {
  "colab": {
   "provenance": []
  },
  "kernelspec": {
   "display_name": "Python [conda env:base] *",
   "language": "python",
   "name": "conda-base-py"
  },
  "language_info": {
   "codemirror_mode": {
    "name": "ipython",
    "version": 3
   },
   "file_extension": ".py",
   "mimetype": "text/x-python",
   "name": "python",
   "nbconvert_exporter": "python",
   "pygments_lexer": "ipython3",
   "version": "3.12.7"
  },
  "toc": {
   "base_numbering": 1,
   "nav_menu": {},
   "number_sections": true,
   "sideBar": true,
   "skip_h1_title": false,
   "title_cell": "Table of Contents",
   "title_sidebar": "Contents",
   "toc_cell": false,
   "toc_position": {},
   "toc_section_display": true,
   "toc_window_display": false
  }
 },
 "nbformat": 4,
 "nbformat_minor": 4
}
