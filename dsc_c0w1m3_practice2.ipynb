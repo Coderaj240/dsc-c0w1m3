{
  "cells": [
    {
      "cell_type": "markdown",
      "metadata": {
        "id": "DseJ85l7AVtS"
      },
      "source": [
        "# Practice for Measure of Dispersion"
      ]
    },
    {
      "cell_type": "markdown",
      "source": [
        "1. Load in the relevant dataset using csv DictReader. The path has been provided."
      ],
      "metadata": {
        "id": "qFwZC1buBHei"
      }
    },
    {
      "cell_type": "code",
      "execution_count": null,
      "metadata": {
        "id": "MnxIV17qAVtT"
      },
      "outputs": [],
      "source": [
        "# Your code here"
      ]
    },
    {
      "cell_type": "markdown",
      "source": [
        "2. Extract values for the the variable height and save to a Python list called `height_list`:"
      ],
      "metadata": {
        "id": "9BvZJwC-BWOW"
      }
    },
    {
      "cell_type": "code",
      "source": [
        "# Your code here"
      ],
      "metadata": {
        "id": "r_XVJY0TBYxS"
      },
      "execution_count": null,
      "outputs": []
    },
    {
      "cell_type": "markdown",
      "source": [
        "We have plotted a histogram of the data. There are clearly outliers in the data."
      ],
      "metadata": {
        "id": "UMS3oS-RGNsF"
      }
    },
    {
      "cell_type": "code",
      "source": [
        "# Run this cell without changes\n",
        "import matplotlib.pyplot as plt\n",
        "%matplotlib inline\n",
        "# ^^This is a 'magic command' built into jupyter notebooks. We use it so that the visualization displays\n",
        "# in the notebook directly, instead of in a separate window."
      ],
      "metadata": {
        "id": "ozCa-cg0GQPf"
      },
      "execution_count": null,
      "outputs": []
    },
    {
      "cell_type": "code",
      "source": [
        "# Run this cell without changes\n",
        "# A histogram should display below\n",
        "plt.hist(height, bins=8);"
      ],
      "metadata": {
        "id": "0V-QyJyLGUix"
      },
      "execution_count": null,
      "outputs": []
    },
    {
      "cell_type": "markdown",
      "source": [
        "3.  Calculate the sample mean of the heights."
      ],
      "metadata": {
        "id": "PcQ_BKoeDSYc"
      }
    },
    {
      "cell_type": "code",
      "source": [
        "# Your code here"
      ],
      "metadata": {
        "id": "MH8SLkfMJMHF"
      },
      "execution_count": null,
      "outputs": []
    },
    {
      "cell_type": "markdown",
      "source": [
        "4. Calculate the sample variance of the heights. Make sure that you are using the corrected variance."
      ],
      "metadata": {
        "id": "21t8rXLzJMzM"
      }
    },
    {
      "cell_type": "code",
      "source": [
        "# Your code here"
      ],
      "metadata": {
        "id": "lB8xbHuyJRHk"
      },
      "execution_count": null,
      "outputs": []
    },
    {
      "cell_type": "markdown",
      "source": [
        "5. Calculate the sample standard deviation of heights. Make sure that you are using the corrected standard deviation."
      ],
      "metadata": {
        "id": "Mc3fj3IHJYtz"
      }
    },
    {
      "cell_type": "code",
      "source": [
        "# Your code here"
      ],
      "metadata": {
        "id": "35gVzsB6Ja1u"
      },
      "execution_count": null,
      "outputs": []
    },
    {
      "cell_type": "markdown",
      "source": [
        "6. Calculate the IQR by calculating and subtracting relevant percentiles."
      ],
      "metadata": {
        "id": "HH3Pr2skJcDf"
      }
    },
    {
      "cell_type": "code",
      "source": [
        "# Your code here"
      ],
      "metadata": {
        "id": "4daj6fRiJfAo"
      },
      "execution_count": null,
      "outputs": []
    },
    {
      "cell_type": "markdown",
      "source": [
        "7. Calculate the IQR using scipy."
      ],
      "metadata": {
        "id": "NKrZTLBfJgsj"
      }
    },
    {
      "cell_type": "code",
      "source": [
        "# Your code here"
      ],
      "metadata": {
        "id": "z7Zb1d8wJjSG"
      },
      "execution_count": null,
      "outputs": []
    },
    {
      "cell_type": "markdown",
      "source": [
        "8. Clean all outliers from the height data. You can use the histogram of heights to help guide in your data filtering."
      ],
      "metadata": {
        "id": "oiIg2jptJmvV"
      }
    },
    {
      "cell_type": "code",
      "source": [
        "# Your code here"
      ],
      "metadata": {
        "id": "dNT_7S0HJqXG"
      },
      "execution_count": null,
      "outputs": []
    },
    {
      "cell_type": "markdown",
      "source": [
        "9. Compute the sample standard deviation on the cleaned data:"
      ],
      "metadata": {
        "id": "yPICwQKWJpar"
      }
    },
    {
      "cell_type": "code",
      "source": [
        "# Your code here"
      ],
      "metadata": {
        "id": "ebXPNKJqJwKu"
      },
      "execution_count": null,
      "outputs": []
    },
    {
      "cell_type": "markdown",
      "source": [
        "10.  Compute the new IQR on the cleaned data:"
      ],
      "metadata": {
        "id": "aNUhEqwhJxSy"
      }
    },
    {
      "cell_type": "code",
      "source": [
        "# Your code here"
      ],
      "metadata": {
        "id": "AfyW3uSlJz0h"
      },
      "execution_count": null,
      "outputs": []
    },
    {
      "cell_type": "markdown",
      "source": [
        "11.  Comment on how the standard deviation and IQR has changed between  the original and cleaned heights."
      ],
      "metadata": {
        "id": "4-CEN3waJ1IB"
      }
    },
    {
      "cell_type": "markdown",
      "source": [],
      "metadata": {
        "id": "U9Pd40aXJ4Xr"
      }
    }
  ],
  "metadata": {
    "kernelspec": {
      "display_name": "Python 3",
      "language": "python",
      "name": "python3"
    },
    "language_info": {
      "codemirror_mode": {
        "name": "ipython",
        "version": 3
      },
      "file_extension": ".py",
      "mimetype": "text/x-python",
      "name": "python",
      "nbconvert_exporter": "python",
      "pygments_lexer": "ipython3",
      "version": "3.8.5"
    },
    "toc": {
      "base_numbering": 1,
      "nav_menu": {},
      "number_sections": true,
      "sideBar": true,
      "skip_h1_title": false,
      "title_cell": "Table of Contents",
      "title_sidebar": "Contents",
      "toc_cell": false,
      "toc_position": {},
      "toc_section_display": true,
      "toc_window_display": false
    },
    "colab": {
      "provenance": []
    }
  },
  "nbformat": 4,
  "nbformat_minor": 0
}