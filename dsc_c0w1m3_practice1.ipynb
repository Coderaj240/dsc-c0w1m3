{
  "cells": [
    {
      "cell_type": "markdown",
      "metadata": {
        "id": "DseJ85l7AVtS"
      },
      "source": [
        "# Practice for Measure of Central Tendency"
      ]
    },
    {
      "cell_type": "markdown",
      "source": [
        "1. Load in the relevant dataset using csv DictReader. The path has been provided."
      ],
      "metadata": {
        "id": "qFwZC1buBHei"
      }
    },
    {
      "cell_type": "code",
      "execution_count": null,
      "metadata": {
        "id": "MnxIV17qAVtT"
      },
      "outputs": [],
      "source": [
        "import csv\n",
        "path = './nhis.csv'\n",
        "\n",
        "# Your code here\n"
      ]
    },
    {
      "cell_type": "markdown",
      "source": [
        "2. Extract values for the the variable height and save to a Python list called `height_list`:"
      ],
      "metadata": {
        "id": "9BvZJwC-BWOW"
      }
    },
    {
      "cell_type": "code",
      "source": [
        "# Your code here."
      ],
      "metadata": {
        "id": "r_XVJY0TBYxS"
      },
      "execution_count": null,
      "outputs": []
    },
    {
      "cell_type": "markdown",
      "source": [
        "3. Calculate the mean of the height data by explicitly calculating the sum over values and dividing by the number of data points."
      ],
      "metadata": {
        "id": "5E27X9xjBunf"
      }
    },
    {
      "cell_type": "code",
      "execution_count": null,
      "metadata": {
        "id": "s8T9AmkSAVtV"
      },
      "outputs": [],
      "source": [
        "# Your code here."
      ]
    },
    {
      "cell_type": "markdown",
      "metadata": {
        "id": "b_waQUotAVtW"
      },
      "source": [
        "4. Calculate mean height using Numpy.  \n"
      ]
    },
    {
      "cell_type": "code",
      "source": [
        "Calculate mean height using numpy."
      ],
      "metadata": {
        "id": "V-GOo71hCRLZ"
      },
      "execution_count": null,
      "outputs": []
    },
    {
      "cell_type": "code",
      "source": [
        "# Run this cell without changes\n",
        "import matplotlib.pyplot as plt\n",
        "%matplotlib inline\n",
        "# ^^This is a 'magic command' built into jupyter notebooks. We use it so that the visualization displays\n",
        "# in the notebook directly, instead of in a separate window."
      ],
      "metadata": {
        "id": "kOZ642M7E3w0"
      },
      "execution_count": null,
      "outputs": []
    },
    {
      "cell_type": "code",
      "source": [
        "# Run this cell without changes\n",
        "# A histogram should display below\n",
        "plt.hist(height, bins=8);"
      ],
      "metadata": {
        "id": "DZkIP7AXE6dy"
      },
      "execution_count": null,
      "outputs": []
    },
    {
      "cell_type": "markdown",
      "source": [
        "We have plotted a histogram of the data. There are clearly outliers in the data.\n",
        "\n",
        "\n"
      ],
      "metadata": {
        "id": "ImebJEu6BldD"
      }
    },
    {
      "cell_type": "markdown",
      "source": [
        "5. Is the mean the best measure for central tendency given these outliers? Explain your answer."
      ],
      "metadata": {
        "id": "Y9gXDOH5E2HZ"
      }
    },
    {
      "cell_type": "markdown",
      "source": [],
      "metadata": {
        "id": "4HxQZHnsDXSt"
      }
    },
    {
      "cell_type": "markdown",
      "source": [
        "6. Given knowledge of the distribution of the data and the presence of outliers, compute the relevant statistic (i.e. the mode or the median) reflecting central tendency. Use either the Counter object or numpy respectively for the statistic you have chosen."
      ],
      "metadata": {
        "id": "Y28T6JTjC3E8"
      }
    },
    {
      "cell_type": "code",
      "source": [
        "# Your code here."
      ],
      "metadata": {
        "id": "llbYVKyFC5GW"
      },
      "execution_count": null,
      "outputs": []
    },
    {
      "cell_type": "markdown",
      "source": [
        "7. There are cases where the extreme values are either erroneous data points or are not relevant to the aims of our analysis. Filtering outliers is useful in this case. Filter the heights_list by removing any values greater than 80. This value is set by inspection of the histogram above. Save this to a new list called filtered_heights_list"
      ],
      "metadata": {
        "id": "hzUPeGtnC78I"
      }
    },
    {
      "cell_type": "code",
      "source": [
        "# Your code here."
      ],
      "metadata": {
        "id": "egDdBZwmC_zZ"
      },
      "execution_count": null,
      "outputs": []
    },
    {
      "cell_type": "markdown",
      "source": [
        "8. Compute the mean on the filtered_heights_list:"
      ],
      "metadata": {
        "id": "QvBP-0RrDABq"
      }
    },
    {
      "cell_type": "code",
      "source": [
        "# Your code here."
      ],
      "metadata": {
        "id": "Q91LYIPbDD8s"
      },
      "execution_count": null,
      "outputs": []
    },
    {
      "cell_type": "markdown",
      "source": [
        "9. How does the mean of the data with outliers removed compare to the mean of the original data? How do both means compare to the median?"
      ],
      "metadata": {
        "id": "my5isgeADENw"
      }
    },
    {
      "cell_type": "markdown",
      "source": [],
      "metadata": {
        "id": "vSCEmlijDVlw"
      }
    },
    {
      "cell_type": "markdown",
      "source": [
        "10. Calculate the mode for height data. Complete the function below so that it returns a list of values – there may be more than one value – which have the highest frequency."
      ],
      "metadata": {
        "id": "ipxKJo76DFqk"
      }
    },
    {
      "cell_type": "code",
      "source": [
        "# Throughout this cell, replace None with appropriate code\n",
        "\n",
        "def get_mode(data):\n",
        "\n",
        "    # Create and populate frequency distribution\n",
        "    frequency_dict = {}\n",
        "\n",
        "    for height in data:\n",
        "        # If an element is not in the dict, add it to the dict with value 1\n",
        "        # If an element is already in the dict, +1 the value in place\n",
        "        None\n",
        "\n",
        "    # Find the frequency of the mode(s) by finding the largest\n",
        "    # value in frequency_dict\n",
        "    highest_freq = None\n",
        "\n",
        "    # Create a list for mode values\n",
        "    modes = []\n",
        "\n",
        "    # From the dictionary, add element(s) to the modes list with max frequency\n",
        "    for height, frequency in frequency_dict.items():\n",
        "        None\n",
        "\n",
        "    # Return the mode list\n",
        "    return modes\n"
      ],
      "metadata": {
        "id": "rgy3xQOsDILG"
      },
      "execution_count": null,
      "outputs": []
    },
    {
      "cell_type": "markdown",
      "source": [
        "11. Use the above function to calculate the mode of the original height list."
      ],
      "metadata": {
        "id": "kk0e51LHDMWq"
      }
    },
    {
      "cell_type": "code",
      "source": [
        "# Your code here"
      ],
      "metadata": {
        "id": "35pGV9cRDNPp"
      },
      "execution_count": null,
      "outputs": []
    },
    {
      "cell_type": "markdown",
      "source": [
        "12.  Use the collections library and Counter object to extract the mode."
      ],
      "metadata": {
        "id": "ChQS2ZWPDQTM"
      }
    },
    {
      "cell_type": "code",
      "source": [
        "# Your code here"
      ],
      "metadata": {
        "id": "a-k3Oj60DSQL"
      },
      "execution_count": null,
      "outputs": []
    },
    {
      "cell_type": "markdown",
      "source": [
        "13. Discuss the location of the mode relative to the mean and median. Could knowing the value of the mode independent of the mean and median be useful? Explain."
      ],
      "metadata": {
        "id": "PcQ_BKoeDSYc"
      }
    },
    {
      "cell_type": "markdown",
      "source": [],
      "metadata": {
        "id": "tQ9fzIusDUwL"
      }
    }
  ],
  "metadata": {
    "kernelspec": {
      "display_name": "Python 3",
      "language": "python",
      "name": "python3"
    },
    "language_info": {
      "codemirror_mode": {
        "name": "ipython",
        "version": 3
      },
      "file_extension": ".py",
      "mimetype": "text/x-python",
      "name": "python",
      "nbconvert_exporter": "python",
      "pygments_lexer": "ipython3",
      "version": "3.8.5"
    },
    "toc": {
      "base_numbering": 1,
      "nav_menu": {},
      "number_sections": true,
      "sideBar": true,
      "skip_h1_title": false,
      "title_cell": "Table of Contents",
      "title_sidebar": "Contents",
      "toc_cell": false,
      "toc_position": {},
      "toc_section_display": true,
      "toc_window_display": false
    },
    "colab": {
      "provenance": []
    }
  },
  "nbformat": 4,
  "nbformat_minor": 0
}